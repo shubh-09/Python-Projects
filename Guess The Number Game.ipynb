{
 "cells": [
  {
   "cell_type": "markdown",
   "metadata": {},
   "source": [
    "# Guess The Number\n",
    "\n",
    "**This is a number guessing game in which the computer stores a number and the user tries to guess the number by inputing random integers.**\n",
    "**Give it a try and Enjoy!!**"
   ]
  },
  {
   "cell_type": "code",
   "execution_count": null,
   "metadata": {},
   "outputs": [],
   "source": [
    "import random as ra\n",
    "a=ra.randint(1,100) \n",
    "b=int(input(\"Guess the Number between 1 to 100:\"))\n",
    "count=0\n",
    "while 1:                  # to continue the iteration till user gets the number\n",
    "    if b<=100 and b>=1:   # if condition if user enters number out of range\n",
    "        count+=1          # variable to count the attempts\n",
    "        if a==b:          # equality condition\n",
    "            print()\n",
    "            print(\"Yipee!!! You got the number and it took you\",count,\"attempts to guess my number.\")\n",
    "            break         # to stop the iteration when user guessed the number\n",
    "        elif a>b:\n",
    "            print()\n",
    "            print(\"My number is greater than\",b)\n",
    "            b=int(input(\"Guess the number again:\"))\n",
    "        else:\n",
    "            print()\n",
    "            print(\"My number is smaller than\",b)\n",
    "            b=int(input(\"Guess the number again:\"))\n",
    "    else:\n",
    "        print(\"Invalid Number.\")\n",
    "        b=int(input(\"Guess the number again:\"))"
   ]
  }
 ],
 "metadata": {
  "kernelspec": {
   "display_name": "Python 3",
   "language": "python",
   "name": "python3"
  },
  "language_info": {
   "codemirror_mode": {
    "name": "ipython",
    "version": 3
   },
   "file_extension": ".py",
   "mimetype": "text/x-python",
   "name": "python",
   "nbconvert_exporter": "python",
   "pygments_lexer": "ipython3",
   "version": "3.8.3"
  }
 },
 "nbformat": 4,
 "nbformat_minor": 4
}
