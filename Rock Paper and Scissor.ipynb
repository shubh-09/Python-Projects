{
 "cells": [
  {
   "cell_type": "markdown",
   "metadata": {},
   "source": [
    "# Rock Paper and Scissor\n",
    "**This is the most commonly played fun time game which almost all of us have played in our childhood. Let's Play and Enjoy!!**"
   ]
  },
  {
   "cell_type": "code",
   "execution_count": null,
   "metadata": {},
   "outputs": [],
   "source": [
    "import random as ra                          #In this I have imported random module to choose one\n",
    "                                             #option from the list and asked user's choice, then \n",
    "                                             #I have used capitalize function for converting string into required format \n",
    "print(\"Let's Play Rock Paper and Scissor\")\n",
    "myList=[\"Rock\",\"Paper\",\"Scissor\"]\n",
    "a=ra.choice(myList)                          # using choice function to get a random string \"myList\" \n",
    "b=input(\"What's your Choice :\")\n",
    "c=b.capitalize()                             # if user inputs string in lowercase or uppercase\n",
    "print(\"My Choice:\",a)\n",
    "if a==c:\n",
    "    print(\"Draw\")\n",
    "elif a==\"Rock\" and c==\"Paper\":\n",
    "    print(\"You Won\")\n",
    "elif a==\"Rock\" and c==\"Scissor\":\n",
    "    print(\"I Won\")\n",
    "elif a==\"Paper\" and c==\"Rock\":\n",
    "    print(\"I Won\")\n",
    "elif a==\"Paper\" and c==\"Scissor\":\n",
    "    print(\"You won\")\n",
    "elif a==\"Scissor\" and c==\"Rock\":\n",
    "    print(\"You Won\")\n",
    "else:\n",
    "    print(\"I Won\")"
   ]
  }
 ],
 "metadata": {
  "kernelspec": {
   "display_name": "Python 3",
   "language": "python",
   "name": "python3"
  },
  "language_info": {
   "codemirror_mode": {
    "name": "ipython",
    "version": 3
   },
   "file_extension": ".py",
   "mimetype": "text/x-python",
   "name": "python",
   "nbconvert_exporter": "python",
   "pygments_lexer": "ipython3",
   "version": "3.8.3"
  }
 },
 "nbformat": 4,
 "nbformat_minor": 4
}
